{
  "cells": [
    {
      "cell_type": "markdown",
      "metadata": {
        "id": "view-in-github",
        "colab_type": "text"
      },
      "source": [
        "<a href=\"https://colab.research.google.com/github/pedro-delima/Protected-World/blob/main/protected_world.ipynb\" target=\"_parent\"><img src=\"https://colab.research.google.com/assets/colab-badge.svg\" alt=\"Open In Colab\"/></a>"
      ]
    },
    {
      "cell_type": "code",
      "execution_count": 12,
      "id": "ed760298",
      "metadata": {
        "colab": {
          "base_uri": "https://localhost:8080/"
        },
        "id": "ed760298",
        "outputId": "6dc1cf2a-c9a8-4106-dd7d-6afbae980b38"
      },
      "outputs": [
        {
          "output_type": "stream",
          "name": "stdout",
          "text": [
            "Requirement already satisfied: pyowm in /usr/local/lib/python3.11/dist-packages (3.3.0)\n",
            "Requirement already satisfied: requests<3,>=2.20.0 in /usr/local/lib/python3.11/dist-packages (from pyowm) (2.32.3)\n",
            "Requirement already satisfied: geojson<3,>=2.3.0 in /usr/local/lib/python3.11/dist-packages (from pyowm) (2.5.0)\n",
            "Requirement already satisfied: PySocks<2,>=1.7.1 in /usr/local/lib/python3.11/dist-packages (from pyowm) (1.7.1)\n",
            "Requirement already satisfied: charset-normalizer<4,>=2 in /usr/local/lib/python3.11/dist-packages (from requests<3,>=2.20.0->pyowm) (3.4.2)\n",
            "Requirement already satisfied: idna<4,>=2.5 in /usr/local/lib/python3.11/dist-packages (from requests<3,>=2.20.0->pyowm) (3.10)\n",
            "Requirement already satisfied: urllib3<3,>=1.21.1 in /usr/local/lib/python3.11/dist-packages (from requests<3,>=2.20.0->pyowm) (2.4.0)\n",
            "Requirement already satisfied: certifi>=2017.4.17 in /usr/local/lib/python3.11/dist-packages (from requests<3,>=2.20.0->pyowm) (2025.4.26)\n"
          ]
        }
      ],
      "source": [
        "!pip install -q google-adk\n",
        "!pip install pyowm"
      ]
    },
    {
      "cell_type": "code",
      "execution_count": 13,
      "id": "25552363",
      "metadata": {
        "id": "25552363"
      },
      "outputs": [],
      "source": [
        "\n",
        "import os\n",
        "from google.colab import userdata\n",
        "\n",
        "os.environ['OWM_API_KEY'] = userdata.get('OWM_API_KEY')\n",
        "os.environ[\"GOOGLE_API_KEY\"] = userdata.get('GOOGLE_API_KEY')\n",
        "openweathermap_key = '5b78a5f8fcb842356ad4c355bd4daa99'\n"
      ]
    },
    {
      "cell_type": "code",
      "execution_count": 15,
      "id": "ed2dadd9",
      "metadata": {
        "id": "ed2dadd9"
      },
      "outputs": [],
      "source": [
        "\n",
        "from geopy.geocoders import Nominatim\n",
        "from google import genai\n",
        "from pyowm import OWM\n",
        "from google.adk.agents import Agent\n",
        "from google.adk.runners import Runner\n",
        "from google.adk.sessions import InMemorySessionService\n",
        "from google.adk.tools import google_search\n",
        "from google.genai import types\n",
        "from datetime import date\n",
        "import textwrap\n",
        "from IPython.display import display, Markdown\n",
        "import requests\n",
        "import warnings\n"
      ]
    },
    {
      "cell_type": "code",
      "execution_count": 16,
      "id": "face0184",
      "metadata": {
        "id": "face0184"
      },
      "outputs": [],
      "source": [
        "\n",
        "def menu():\n",
        "    print('-------------------------')\n",
        "    print('PROTECTED WORLD')\n",
        "    print('-------------------------')\n",
        "    print('Saiba antes, aja a tempo. Protected World, seu aliado em uma vida protegida e confortável')\n",
        "    global local\n",
        "    local = input('Informe o nome da cidade em que você está: \\n')\n",
        "    coordenadas(local)\n"
      ]
    },
    {
      "cell_type": "code",
      "execution_count": 17,
      "id": "6ef1e4e7",
      "metadata": {
        "id": "6ef1e4e7"
      },
      "outputs": [],
      "source": [
        "\n",
        "def coordenadas(endereco):\n",
        "    geolocator = Nominatim(user_agent=\"protected_world\")\n",
        "    localizacao = geolocator.geocode(endereco)\n",
        "    informacoes_climaticas(localizacao.latitude, localizacao.longitude)\n"
      ]
    },
    {
      "cell_type": "code",
      "execution_count": 18,
      "id": "275826d8",
      "metadata": {
        "id": "275826d8"
      },
      "outputs": [],
      "source": [
        "\n",
        "def informacoes_climaticas(latitude, longitude):\n",
        "    owm = OWM(openweathermap_key)\n",
        "    mgr = owm.weather_manager()\n",
        "    observation_coords = mgr.weather_at_coords(latitude, longitude)\n",
        "    w = observation_coords.weather\n",
        "    global temperatura\n",
        "    temperatura = w.temperature('celsius')['temp']\n",
        "    sensacao_termica = w.temperature('celsius')['feels_like']\n",
        "    global umidade\n",
        "    umidade = w.humidity\n",
        "    global velocidade_vento\n",
        "    velocidade_vento = w.wind()['speed']\n",
        "    direcao_vento = w.wind()['deg']\n",
        "    status_geral = w.detailed_status\n",
        "    chuva = w.rain if w.rain else {}\n",
        "    horario_nascer_sol = w.sunrise_time('iso')\n",
        "    horario_por_do_sol = w.sunset_time('iso')\n",
        "    pressao = w.pressure['press']\n",
        "    nuvens = w.clouds\n",
        "    visibilidade = w.visibility_distance\n",
        "\n",
        "    global dados_climaticos_formatados\n",
        "    dados_climaticos_formatados = f\"\"\"\n",
        "    Temperatura: {temperatura:.2f}°C (Sensação térmica: {sensacao_termica:.2f}°C)\n",
        "    Umidade: {umidade}%\n",
        "    Vento: {velocidade_vento:.2f} m/s\n",
        "    Condição geral: {status_geral.capitalize()}\n",
        "    Pressão: {pressao} hPa\n",
        "    Cobertura de nuvens: {nuvens}%\n",
        "    Chuva: {chuva}\n",
        "    Visibilidade: {visibilidade} metros\n",
        "    Nascer do sol: {horario_nascer_sol}\n",
        "    Pôr do sol: {horario_por_do_sol}\n",
        "    \"\"\"\n",
        "    analisar_clima_com_gemini(local, dados_climaticos_formatados)\n"
      ]
    },
    {
      "cell_type": "code",
      "execution_count": 19,
      "id": "dfea836f",
      "metadata": {
        "id": "dfea836f"
      },
      "outputs": [],
      "source": [
        "\n",
        "def call_agent(agent: Agent, message_text: str) -> str:\n",
        "    session_service = InMemorySessionService()\n",
        "    session = session_service.create_session(app_name=agent.name, user_id=\"user1\", session_id=\"session1\")\n",
        "    runner = Runner(agent=agent, app_name=agent.name, session_service=session_service)\n",
        "    content = types.Content(role=\"user\", parts=[types.Part(text=message_text)])\n",
        "\n",
        "    final_response = \"\"\n",
        "    for event in runner.run(user_id=\"user1\", session_id=\"session1\", new_message=content):\n",
        "        if event.is_final_response():\n",
        "            for part in event.content.parts:\n",
        "                if part.text is not None:\n",
        "                    final_response += part.text + \"\\n\"\n",
        "    return final_response\n"
      ]
    },
    {
      "cell_type": "code",
      "execution_count": 20,
      "id": "10e2ed03",
      "metadata": {
        "id": "10e2ed03"
      },
      "outputs": [],
      "source": [
        "\n",
        "def to_markdown(text):\n",
        "    text = text.replace('•', '  *')\n",
        "    return Markdown(textwrap.indent(text, '> ', predicate=lambda _: True))\n"
      ]
    },
    {
      "cell_type": "code",
      "execution_count": 26,
      "id": "528912ea",
      "metadata": {
        "id": "528912ea"
      },
      "outputs": [],
      "source": [
        "\n",
        "# Função para analisar clima com agente Gemini\n",
        "def analisar_clima_com_gemini(local, dados_climaticos_formatados):\n",
        "    agente_analizador = Agent(\n",
        "        name='Agente_analizador',\n",
        "        model='gemini-2.0-flash',\n",
        "        description='Agente analizador das condicoes climaticas',\n",
        "        instruction=\"\"\"objetivo: Analisar os dados climáticos fornecidos para a localização atual (Fortaleza, Ceará, Brasil) e determinar o risco de desastres climáticos iminentes, além de fornecer recomendações práticas para que o usuário possa manter a melhor qualidade de vida possível, dadas as condições meteorológicas presentes.\n",
        "\n",
        "Dados a serem analisados:\n",
        "\n",
        "O agente receberá um conjunto de dados climáticos atuais, incluindo (mas não se limitando a):\n",
        "\n",
        "Temperatura: (em graus Celsius e sensação térmica)\n",
        "Umidade: (em porcentagem)\n",
        "Velocidade e Direção do Vento: (em m/s e graus/direção)\n",
        "Condição Geral do Tempo: (descrição textual: ex: céu limpo, chuva leve, tempestade)\n",
        "Pressão Atmosférica: (em hPa)\n",
        "Cobertura de Nuvens: (em porcentagem)\n",
        "Visibilidade: (em metros)\n",
        "Precipitação: (se disponível, quantidade e probabilidade)\n",
        "Qualidade do Ar: (se disponível, índice e principais poluentes)\n",
        "Tarefas do Agente:\n",
        "\n",
        "Avaliação de Risco de Desastre Climático:\n",
        "\n",
        "Analisar os dados atuais em busca de indicadores de eventos climáticos perigosos. Considere os seguintes limiares (estes podem ser ajustados com base no conhecimento climático específico de Fortaleza):\n",
        "Temperatura Extrema: Acima de 35°C (risco de insolação e desidratação).\n",
        "Ventos Fortes: Acima de 15 m/s (risco de quedas de objetos, dificuldade de locomoção).\n",
        "Chuva Intensa: Precipitação acima de 10 mm/h ou previsão de grande volume acumulado em curto período (risco de alagamentos).\n",
        "Tempestades: Presença de raios, trovões e ventos fortes (risco de descargas elétricas, quedas de árvores).\n",
        "Qualidade do Ar: Índice de Qualidade do Ar (ICA) em níveis considerados insalubres ou perigosos (risco para a saúde respiratória).\n",
        "Considerar a combinação de fatores. Por exemplo, alta temperatura combinada com alta umidade aumenta o risco de problemas de saúde relacionados ao calor.\n",
        "Emitir um alerta claro e conciso caso seja identificado um risco significativo de desastre climático iminente. O alerta deve especificar a natureza do risco (ex: \"Alerta de calor extremo\", \"Risco de ventos fortes e tempestades\").\n",
        "Recomendações para Melhor Qualidade de Vida:\n",
        "\n",
        "Com base nas condições climáticas atuais, fornecer recomendações práticas e acionáveis para o usuário. As recomendações devem abordar os seguintes aspectos:\n",
        "Saúde e Bem-Estar:\n",
        "Em caso de calor: Sugerir hidratação constante, evitar exposição prolongada ao sol, buscar locais frescos e ventilados, usar roupas leves e protetor solar.\n",
        "Em caso de frio (menos comum em Fortaleza, mas possível em certas épocas): Recomendar agasalhar-se adequadamente.\n",
        "Em caso de alta umidade: Sugerir manter ambientes ventilados para evitar a proliferação de mofo e ácaros.\n",
        "Em caso de má qualidade do ar: Recomendar evitar atividades ao ar livre, usar máscaras de proteção (se apropriado), manter janelas fechadas.\n",
        "Segurança:\n",
        "Em caso de ventos fortes: Aconselhar evitar áreas com risco de queda de objetos (árvores, postes), fechar janelas e portas.\n",
        "Em caso de chuva forte ou tempestade: Recomendar evitar áreas alagadas, buscar abrigo seguro, evitar contato com água e objetos metálicos.\n",
        "Conforto:\n",
        "Sugerir o uso de roupas e calçados adequados à temperatura e umidade.\n",
        "Recomendar o uso de ventiladores ou ar condicionado, se necessário.\n",
        "Atividades:\n",
        "Sugerir horários mais adequados para atividades ao ar livre (evitando horários de pico de calor ou chuva).\n",
        "Incentivar atividades em locais protegidos em condições climáticas adversas.\n",
        "Formato da Resposta:\n",
        "\n",
        "A resposta do agente deve ser clara, concisa e organizada, contendo as seguintes seções:\n",
        "\n",
        "Avaliação de Risco: (Se houver risco, indicar claramente qual e o nível de severidade, se possível).\n",
        "Recomendações para Qualidade de Vida: (Listar as recomendações de forma clara e com marcadores para fácil leitura).\n",
        "Exemplo de Resposta:\n",
        "\n",
        "\"Avaliação de Risco: Alerta de calor extremo. A temperatura atual é de 36°C com sensação térmica elevada, representando um risco significativo de insolação e desidratação.\n",
        "\n",
        "Recomendações para Qualidade de Vida:\n",
        "\n",
        "Beba bastante água ao longo do dia para manter-se hidratado.\n",
        "Evite a exposição prolongada ao sol, especialmente entre as 10h e as 16h.\n",
        "Procure locais frescos e com boa ventilação.\n",
        "Use roupas leves, claras e folgadas.\n",
        "Aplique protetor solar com fator adequado.\n",
        "Evite atividades físicas intensas durante os horários mais quentes.\"\n",
        "Considerações Adicionais:\n",
        "\n",
        "O agente deve ser capaz de adaptar as recomendações com base na combinação específica de condições climáticas presentes.\n",
        "A linguagem utilizada deve ser acessível e fácil de entender para o usuário.\n",
        "Se possível, fornecer informações adicionais relevantes, como a previsão para as próximas horas, para auxiliar o usuário no planejamento.\n",
        "        \"\"\"\n",
        "    )\n",
        "    entrada_agente_analizador = f'Local: {local}\\n Dados Climaticos: {dados_climaticos_formatados}'\n",
        "    analizador = call_agent(agente_analizador, entrada_agente_analizador)\n",
        "    return analizador\n"
      ]
    },
    {
      "cell_type": "code",
      "execution_count": 29,
      "id": "c40c34c0",
      "metadata": {
        "id": "c40c34c0"
      },
      "outputs": [],
      "source": [
        "\n",
        "def sugestoes_atividades(local, analizador):\n",
        "    agente_atividades = Agent(\n",
        "        name='Agente_Atividades',\n",
        "        model='gemini-2.0-flash',\n",
        "        description='Agente de buscar noticias no google',\n",
        "        tools=[google_search],\n",
        "        instruction=\"\"\"Você é um especialista em atividades urbanas em determinada cidade fornecida pelo usuario. Sua função é dupla:\n",
        "\n",
        "Recomendar uma atividade específica adequada às condições climáticas atuais ou previstas nessa cidade.\n",
        "Pesquisar e fornecer os nomes específicos de locais (estabelecimentos comerciais ou espaços públicos) na cidade onde o usuário pode realizar essa atividade.\n",
        "Ao recomendar a atividade, considere os horários mais adequados para atividades ao ar livre, evitando o pico de calor ou chuva, e sugira alternativas em locais protegidos para condições climáticas adversas.\n",
        "\n",
        "Formato da Resposta:\n",
        "\n",
        "Atividade Recomendada: [Nome da atividade]\n",
        "\n",
        "Locais para Realizar a Atividade:\n",
        "\n",
        "[Nome do Local 1]\n",
        "[Nome do Local 2]\n",
        "[Nome do Local 3] ...\n",
        "Exemplo de interação:\n",
        "\n",
        "Usuário (implícito): (Considerando um dia de sol por volta das 9h da manhã em Fortaleza)\n",
        "\n",
        "Agente de IA (resposta):\n",
        "\n",
        "Atividade Recomendada: Caminhada ou corrida leve na Beira-Mar.\n",
        "\n",
        "Locais para Realizar a Atividade:\n",
        "\n",
        "Calçadão da Praia de Iracema\n",
        "Calçadão da Praia do Meireles\n",
        "Calçadão da Praia de Mucuripe\n",
        "Usuário (implícito): (Considerando uma tarde chuvosa em Fortaleza)\n",
        "\n",
        "Agente de IA (resposta):\n",
        "\n",
        "Atividade Recomendada: Visitar o Centro Dragão do Mar de Arte e Cultura.\n",
        "\n",
        "Locais para Realizar a Atividade:\n",
        "separe os locais por virgulo\n",
        "\n",
        "Museu de Arte Contemporânea do Ceará\n",
        "Planetário Rubens de Azevedo\n",
        "Cinema do Dragão\"\"\"\n",
        "    )\n",
        "    entrada_do_agente_atividade = f\"Local:{local}\\n Recomendacoes IA de acordo com o clima: {analizador}\"\n",
        "    sugestao_atividade = call_agent(agente_atividades, entrada_do_agente_atividade)\n",
        "    return sugestao_atividade\n"
      ]
    },
    {
      "cell_type": "code",
      "execution_count": 30,
      "id": "9245db7c",
      "metadata": {
        "colab": {
          "base_uri": "https://localhost:8080/",
          "height": 1000
        },
        "id": "9245db7c",
        "outputId": "73962ee7-277f-4f28-b7c7-d7137ff2611d"
      },
      "outputs": [
        {
          "output_type": "stream",
          "name": "stdout",
          "text": [
            "-------------------------\n",
            "PROTECTED WORLD\n",
            "-------------------------\n",
            "Saiba antes, aja a tempo. Protected World, seu aliado em uma vida protegida e confortável\n",
            "Informe o nome da cidade em que você está: \n",
            "São Paulo\n",
            "################################\n",
            "Resultado da situação climatica\n",
            "################################\n",
            "Temperatura: 19.51°C 🥶\n",
            "Umiade: 87% 💦\n"
          ]
        },
        {
          "output_type": "display_data",
          "data": {
            "text/plain": [
              "<IPython.core.display.Markdown object>"
            ],
            "text/markdown": "> **Avaliação de Risco:**\n> \n> Não há risco imediato de desastre climático. As condições climáticas indicam um dia nublado e úmido, com temperatura amena e ventos fracos.\n> \n> **Recomendações para Qualidade de Vida:**\n> \n> *   **Conforto:**\n>     *   Vista-se adequadamente para uma temperatura de 19.5°C. Uma jaqueta leve ou um casaco podem ser necessários, especialmente para quem sente mais frio.\n>     *   Considere usar roupas que sequem rápido devido à alta umidade.\n> *   **Saúde e Bem-Estar:**\n>     *   Mantenha os ambientes ventilados para reduzir a sensação de umidade e prevenir a proliferação de mofo.\n>     *   Apesar da ausência de chuva, tenha um guarda-chuva à mão, pois o tempo pode mudar rapidamente.\n> *   **Atividades:**\n>     *   Aproveite o dia para atividades internas ou ao ar livre que não exigem exposição direta ao sol, como visitas a museus, shoppings ou caminhadas em parques com áreas cobertas.\n>     *   Verifique a previsão do tempo atualizada antes de planejar atividades ao ar livre mais longas.\n"
          },
          "metadata": {}
        },
        {
          "output_type": "stream",
          "name": "stdout",
          "text": [
            "--------------------------------------------------------------------\n",
            "Deseja receber indicações de atividades para fazer no dia de hoje? (Digite sim ou não)sim\n",
            "################################\n",
            "Sugestão de Atividades\n",
            "################################\n"
          ]
        },
        {
          "output_type": "display_data",
          "data": {
            "text/plain": [
              "<IPython.core.display.Markdown object>"
            ],
            "text/markdown": "> Com base nas condições climáticas de um dia nublado e úmido em São Paulo, e nas recomendações fornecidas, sugiro as seguintes atividades:\n> \n> Atividade Recomendada: Explorar museus, fazer compras em shoppings ou passear em parques com áreas cobertas.\n> \n> Locais para Realizar a Atividade:\n> \n> Museus:\n> *   **MASP (Museu de Arte de São Paulo Assis Chateaubriand)**\n> *   **Pinacoteca do Estado**\n> *   **Museu Afro Brasil**\n> *   **Museu da Língua Portuguesa**\n> *   **MIS - Museu da Imagem e do Som**\n> *   **Museu Catavento**\n> *   **Museu de Arte Contemporânea (MAC-USP)**\n> *   **Japan House**\n> *   **Museu do Futebol**\n> *   **Museu de Arte Sacra de São Paulo**\n> *   **Memorial da Resistência de São Paulo**\n> \n> Shoppings:\n> \n> *   **Shopping Iguatemi**\n> *   **Shopping JK Iguatemi**\n> *   **Shopping Cidade Jardim**\n> *   **Shopping Pátio Higienópolis**\n> *   **Shopping Cidade São Paulo**\n> *   **Shopping Eldorado**\n> *   **Morumbi Shopping**\n> *   **Shopping Center Norte**\n> *   **Shopping Interlagos**\n> *   **Bourbon Shopping São Paulo**\n> *   **Shopping Vila Olímpia**\n> *   **Shopping Anália Franco**\n> *   **Shopping Ibirapuera**\n> *   **Shopping Frei Caneca**\n> *   **Shopping Aricanduva**\n> \n> Parques com áreas cobertas:\n> \n> *   **Animália Park** (possui área coberta com brinquedos e atividades)\n> *   **Parque da Aclimação** (estrutura coberta com mesas)\n> * **Praça das Corujas** (possui área coberta com concreto)\n> *   **Parque Villa Lobos**\n> *   **Parque da Independência**\n> *   **Parque do Ibirapuera**\n> * **Parque Linear Aristocrata**\n> * **Parque Paraisópolis**\n> * **Parque Augusta-Prefeito Bruno Covas**\n> * **Parque Alto da Boa Vista**\n> * **Parque Linear Água Podre Ypuera**\n> * **Parque Piqueri**\n> * **Parque do Carmo**\n> * **Parque Vila do Rodeio**\n> \n> Outras opções:\n> \n> *   **Mercado Municipal de São Paulo:** Para explorar a gastronomia local.\n> *   **Cinesala:** Para assistir a um filme em um ambiente acolhedor.\n> *   **Casa de Pedra:** Para atividades de escalada indoor.\n> *   **Planetário do Carmo:** Para sessões sobre astronomia.\n> \n> \n"
          },
          "metadata": {}
        },
        {
          "output_type": "stream",
          "name": "stdout",
          "text": [
            "--------------------------------------------------------------------\n"
          ]
        }
      ],
      "source": [
        "\n",
        "# Execução\n",
        "menu()\n",
        "\n",
        "print('################################')\n",
        "print('Resultado da situação climatica')\n",
        "print('################################')\n",
        "if temperatura > 30:\n",
        "    print(f'Temperatura: {temperatura:.2f}°C 🥵')\n",
        "elif temperatura > 20:\n",
        "    print(f'Temperatura: {temperatura:.2f}°C 😎')\n",
        "elif temperatura > 10:\n",
        "    print(f'Temperatura: {temperatura:.2f}°C 🥶')\n",
        "else:\n",
        "    print(f'Temperatura: {temperatura:.2f}°C ☃️')\n",
        "\n",
        "if umidade > 50:\n",
        "    print(f'Umiade: {umidade}% 💦')\n",
        "else:\n",
        "    print(f'Umidade: {umidade}% 🏜️')\n",
        "\n",
        "analizador = analisar_clima_com_gemini(local, dados_climaticos_formatados)\n",
        "display(to_markdown(analizador))\n",
        "print('--------------------------------------------------------------------')\n",
        "\n",
        "recomendacaoAtividade = input('Deseja receber indicações de atividades para fazer no dia de hoje? (Digite sim ou não)')\n",
        "if recomendacaoAtividade.upper() == 'SIM':\n",
        "    print('################################')\n",
        "    print('Sugestão de Atividades')\n",
        "    print('################################')\n",
        "    sugestao_atividade = sugestoes_atividades(local, analizador)\n",
        "    display(to_markdown(sugestao_atividade))\n",
        "    print('--------------------------------------------------------------------')\n"
      ]
    }
  ],
  "metadata": {
    "colab": {
      "provenance": [],
      "include_colab_link": true
    },
    "language_info": {
      "name": "python"
    },
    "kernelspec": {
      "name": "python3",
      "display_name": "Python 3"
    }
  },
  "nbformat": 4,
  "nbformat_minor": 5
}